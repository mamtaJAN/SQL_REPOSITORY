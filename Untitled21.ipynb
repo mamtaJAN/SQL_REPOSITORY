{
 "cells": [
  {
   "cell_type": "code",
   "execution_count": 2,
   "id": "256ac670-01f1-4d81-b0bc-a814b24a7b9c",
   "metadata": {},
   "outputs": [
    {
     "name": "stdout",
     "output_type": "stream",
     "text": [
      "Alphabets from (A-Z) are:\n",
      "A B C D E F G H I J K L M N O P Q R S T U V W X Y Z \n",
      "Alphabets from (a-z) are:\n",
      "a b c d e f g h i j k l m n o p q r s t u v w x y z "
     ]
    }
   ],
   "source": [
    "def main():\n",
    "\tprint(\"Alphabets from (A-Z) are:\")\n",
    "\tfor i in range(65, 91):\n",
    "\t\tprint(chr(i), end=\" \")\n",
    "\n",
    "\tprint(\"\\nAlphabets from (a-z) are:\")\n",
    "\tfor i in range(97, 123):\n",
    "\t\tprint(chr(i), end=\" \")\n",
    "if __name__ == \"__main__\":\n",
    "\tmain()"
   ]
  },
  {
   "cell_type": "code",
   "execution_count": 12,
   "id": "01f7db98-7ed4-49f0-af44-1d18ac03b3cd",
   "metadata": {},
   "outputs": [
    {
     "name": "stdout",
     "output_type": "stream",
     "text": [
      "The Alphabets from A to Z are:\n",
      "A B C D E F G H I J K L M N O P Q R S T U V W X Y Z \n",
      "The Alphabets from a to z are:\n",
      "a b c d e f g h i j k l m n o p q r s t u v w x y z "
     ]
    }
   ],
   "source": [
    "i = 'A'\n",
    "print(\"The Alphabets from A to Z are:\")\n",
    "while ord(i) <= ord('Z'):\n",
    "\tprint (i ,end=\" \")\n",
    "\ti = chr(ord(i) + 1)\n",
    "i = 'a' \n",
    "print(\"\\nThe Alphabets from a to z are:\")\n",
    "while ord(i) <= ord('z'):\n",
    "\tprint (i ,end=\" \")\n",
    "\ti = chr(ord(i) + 1)\n"
   ]
  },
  {
   "cell_type": "code",
   "execution_count": 13,
   "id": "bfc51293-666b-47d4-b5f6-ad8c9aa1361c",
   "metadata": {},
   "outputs": [
    {
     "name": "stdout",
     "output_type": "stream",
     "text": [
      "12 x 1 = 12\n",
      "12 x 2 = 24\n",
      "12 x 3 = 36\n",
      "12 x 4 = 48\n",
      "12 x 5 = 60\n",
      "12 x 6 = 72\n",
      "12 x 7 = 84\n",
      "12 x 8 = 96\n",
      "12 x 9 = 108\n",
      "12 x 10 = 120\n"
     ]
    }
   ],
   "source": [
    "# Multiplication table (from 1 to 10) in Python\n",
    "\n",
    "num = 12\n",
    "for i in range(1, 11):\n",
    "   print(num, 'x', i, '=', num*i)\n"
   ]
  },
  {
   "cell_type": "code",
   "execution_count": null,
   "id": "f567e284-30ab-4c55-9db3-784d935c1355",
   "metadata": {},
   "outputs": [],
   "source": []
  }
 ],
 "metadata": {
  "kernelspec": {
   "display_name": "Python 3 (ipykernel)",
   "language": "python",
   "name": "python3"
  },
  "language_info": {
   "codemirror_mode": {
    "name": "ipython",
    "version": 3
   },
   "file_extension": ".py",
   "mimetype": "text/x-python",
   "name": "python",
   "nbconvert_exporter": "python",
   "pygments_lexer": "ipython3",
   "version": "3.10.11"
  }
 },
 "nbformat": 4,
 "nbformat_minor": 5
}
